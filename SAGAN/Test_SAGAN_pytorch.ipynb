{
 "cells": [
  {
   "cell_type": "code",
   "execution_count": 1,
   "source": [
    "import numpy as np\n",
    "import torch\n",
    "import torch.nn as nn\n",
    "from torch.utils.data import DataLoader\n",
    "import torchvision.utils as vutils\n",
    "from torchvision import datasets, transforms\n",
    "import matplotlib.pyplot as plt\n",
    "\n",
    "img_size = 64\n",
    "transform = transforms.Compose([transforms.Resize((img_size, img_size)),\n",
    "                                transforms.ToTensor(), transforms.Normalize(mean=(0.5,), std=(0.5,))])\n",
    "data = datasets.MNIST(root='./data',download=True, transform=transform)\n",
    "img_shape = (data[1][0].size(0), data[1][0].size(1), data[1][0].size(2))\n",
    "print(f'Input size is {img_shape}')\n",
    "\n",
    "# Prepare dataloader for training\n",
    "batch_size = 32\n",
    "dataloader = DataLoader(data, batch_size=batch_size, shuffle=True, num_workers=4)\n",
    "\n",
    "# Plot some training images\n",
    "real_batch, _ = next(iter(dataloader))\n",
    "plt.figure(figsize=(8,8))\n",
    "plt.axis(\"off\")\n",
    "plt.imshow(np.transpose(vutils.make_grid(real_batch[:8], padding=2, normalize=True).cpu(),(1,2,0)))\n",
    "plt.show()"
   ],
   "outputs": [
    {
     "output_type": "stream",
     "name": "stdout",
     "text": [
      "Input size is (1, 64, 64)\n"
     ]
    },
    {
     "output_type": "display_data",
     "data": {
      "image/png": "[encoded data removed]",
      "text/plain": [
       "<Figure size 576x576 with 1 Axes>"
      ]
     },
     "metadata": {
      "needs_background": "light"
     }
    }
   ],
   "metadata": {
    "colab": {
     "base_uri": "https://localhost:8080/",
     "height": 152
    },
    "executionInfo": {
     "elapsed": 456,
     "status": "ok",
     "timestamp": 1631052327658,
     "user": {
      "displayName": "­송기웅 / 학생 / 수리과학부",
      "photoUrl": "",
      "userId": "01789665999382241061"
     },
     "user_tz": -540
    },
    "id": "464a2095-c213-4fcf-9d7e-8983e00872be",
    "outputId": "84ead153-0c8b-4c68-bd69-d859f7080beb"
   }
  },
  {
   "cell_type": "code",
   "execution_count": 2,
   "source": [
    "# SAGAN training\n",
    "from SAGAN_pytorch import *\n",
    "\n",
    "z_dim = 128\n",
    "lr = 0.0001\n",
    "cuda = torch.cuda.is_available()\n",
    "device = torch.device(\"cuda:0\" if cuda else \"cpu\")\n",
    "\n",
    "# Initialize generator and discriminator\n",
    "G = Generator(img_shape=img_shape, z_dim=z_dim, conv_dim=64).to(device)\n",
    "D = Discriminator(img_shape=img_shape, dim=64).to(device)\n",
    "\n",
    "optimizer_G = torch.optim.Adam(G.parameters(), lr=lr, betas=(0.0, 0.99))\n",
    "optimizer_D = torch.optim.Adam(D.parameters(), lr=lr, betas=(0.0, 0.99))\n",
    "\n",
    "Train(epoch=10, dataloader=dataloader, device=device, z_dim=z_dim, G=G, D=D, \n",
    "      optimizer_G=optimizer_G, optimizer_D=optimizer_D, verbose=2)"
   ],
   "outputs": [
    {
     "output_type": "display_data",
     "data": {
      "application/vnd.jupyter.widget-view+json": {
       "version_major": 2,
       "version_minor": 0,
       "model_id": "1be1452225614fb9b6d9c61b165d0417"
      },
      "text/plain": [
       "  0%|          | 0/10 [00:00<?, ?it/s]"
      ]
     },
     "metadata": {}
    },
    {
     "output_type": "stream",
     "name": "stdout",
     "text": [
      "Epoch 2 / D loss: -3.0622 / G loss: 28.7307\n",
      "Epoch 4 / D loss: -3.5920 / G loss: 20.8747\n",
      "Epoch 6 / D loss: -2.4576 / G loss: 17.8218\n",
      "Epoch 8 / D loss: -2.7236 / G loss: 11.7547\n",
      "Epoch 10 / D loss: -3.0460 / G loss: 12.2429\n"
     ]
    }
   ],
   "metadata": {
    "colab": {
     "base_uri": "https://localhost:8080/",
     "height": 383
    },
    "executionInfo": {
     "elapsed": 380,
     "status": "error",
     "timestamp": 1631052339708,
     "user": {
      "displayName": "­송기웅 / 학생 / 수리과학부",
      "photoUrl": "",
      "userId": "01789665999382241061"
     },
     "user_tz": -540
    },
    "id": "4ea5db7d-7205-464b-99ae-48d9513cd8a3",
    "outputId": "28cbe55e-beda-4d03-f6d6-820c1821941d"
   }
  }
 ],
 "metadata": {
  "colab": {
   "collapsed_sections": [],
   "name": "Test_GAN_pytorch.ipynb",
   "provenance": [],
   "toc_visible": true
  },
  "interpreter": {
   "hash": "613189b9447b40282886222006ee8b14fcbe993fdc86fe1dc10aaac86284b79c"
  },
  "kernelspec": {
   "name": "python3",
   "display_name": "Python 3.7.11 64-bit ('test': conda)"
  },
  "language_info": {
   "codemirror_mode": {
    "name": "ipython",
    "version": 3
   },
   "file_extension": ".py",
   "mimetype": "text/x-python",
   "name": "python",
   "nbconvert_exporter": "python",
   "pygments_lexer": "ipython3",
   "version": "3.7.11"
  },
  "widgets": {
   "application/vnd.jupyter.widget-state+json": {}
  }
 },
 "nbformat": 4,
 "nbformat_minor": 5
}