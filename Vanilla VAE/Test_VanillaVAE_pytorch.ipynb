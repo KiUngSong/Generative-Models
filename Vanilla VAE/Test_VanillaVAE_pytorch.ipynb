{
 "cells": [
  {
   "cell_type": "code",
   "execution_count": 1,
   "source": [
    "import numpy as np\n",
    "import torch\n",
    "import torch.nn as nn\n",
    "from torch.utils.data import DataLoader\n",
    "import torchvision.utils as vutils\n",
    "from torchvision import datasets, transforms\n",
    "import matplotlib.pyplot as plt\n",
    "\n",
    "data = datasets.MNIST(root='./data',download=True, transform=transforms.ToTensor())\n",
    "img_shape = (data[1][0].size(0), data[1][0].size(1), data[1][0].size(2))\n",
    "print(f'Input size is {img_shape}')\n",
    "\n",
    "# Prepare dataloader for training\n",
    "batch_size = 64\n",
    "dataloader = DataLoader(data, batch_size=batch_size, shuffle=True, num_workers=4)\n",
    "\n",
    "# Plot some training images\n",
    "real_batch, _ = next(iter(dataloader))\n",
    "plt.figure(figsize=(6,6))\n",
    "plt.axis(\"off\")\n",
    "plt.imshow(np.transpose(vutils.make_grid(real_batch[:8], padding=2, normalize=True).cpu(),(1,2,0)))\n",
    "plt.show()"
   ],
   "outputs": [
    {
     "output_type": "stream",
     "name": "stdout",
     "text": [
      "Input size is (1, 28, 28)\n"
     ]
    },
    {
     "output_type": "display_data",
     "data": {
      "image/png": "[encoded data removed]",
      "text/plain": [
       "<Figure size 432x432 with 1 Axes>"
      ]
     },
     "metadata": {
      "needs_background": "light"
     }
    }
   ],
   "metadata": {}
  },
  {
   "cell_type": "code",
   "execution_count": 2,
   "source": [
    "# VAE training\n",
    "from Vanilla_VAE_pytorch import *\n",
    "\n",
    "lr = 0.0005\n",
    "cuda = torch.cuda.is_available()\n",
    "device = torch.device(\"cuda:0\" if cuda else \"cpu\")\n",
    "\n",
    "# Initialize VAE\n",
    "VAE = VAE(img_size=img_shape, dims=[512, 256], dim_latent=32).to(device)\n",
    "optimizer = torch.optim.Adam(VAE.parameters(), lr=lr)\n",
    "\n",
    "Train(epoch=20, dataloader=dataloader, device=device, VAE=VAE, img_size=img_shape, optimizer=optimizer, verbose=5)"
   ],
   "outputs": [
    {
     "output_type": "display_data",
     "data": {
      "application/vnd.jupyter.widget-view+json": {
       "version_major": 2,
       "version_minor": 0,
       "model_id": "646d0e3dc1964d8c9f29599f0b8f9309"
      },
      "text/plain": [
       "  0%|          | 0/20 [00:00<?, ?it/s]"
      ]
     },
     "metadata": {}
    },
    {
     "output_type": "stream",
     "name": "stdout",
     "text": [
      "Epoch 5 / Loss: 107.0593\n",
      "Epoch 10 / Loss: 110.2490\n",
      "Epoch 15 / Loss: 100.4145\n",
      "Epoch 20 / Loss: 100.2953\n"
     ]
    }
   ],
   "metadata": {}
  }
 ],
 "metadata": {
  "orig_nbformat": 4,
  "language_info": {
   "name": "python",
   "version": "3.7.11",
   "mimetype": "text/x-python",
   "codemirror_mode": {
    "name": "ipython",
    "version": 3
   },
   "pygments_lexer": "ipython3",
   "nbconvert_exporter": "python",
   "file_extension": ".py"
  },
  "kernelspec": {
   "name": "python3",
   "display_name": "Python 3.7.11 64-bit ('test': conda)"
  },
  "interpreter": {
   "hash": "613189b9447b40282886222006ee8b14fcbe993fdc86fe1dc10aaac86284b79c"
  }
 },
 "nbformat": 4,
 "nbformat_minor": 2
}